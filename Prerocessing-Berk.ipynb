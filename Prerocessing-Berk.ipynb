{
 "cells": [
  {
   "cell_type": "code",
   "execution_count": null,
   "id": "80267f5a",
   "metadata": {},
   "outputs": [],
   "source": [
    "import pandas as pd\n",
    "\n",
    "# Dosya yollarını belirtin\n",
    "netflix_file = \"C:/Users/berk/Downloads/netflix_titles.csv\"\n",
    "prime_file = \"C:/Users/berk/Downloads/amazon_prime_titles.csv\"\n",
    "bechdel_file = \"C:/Users/berk/Downloads/Bechdel.csv\"\n",
    "mergedmoviegenre_file = \"C:/Users/berk/Downloads/MergedMovieGenre.csv\"\n",
    "\n",
    "# Veri çerçevelerini okuyun\n",
    "netflix_df = pd.read_csv(netflix_file)\n",
    "prime_df = pd.read_csv(prime_file)\n",
    "bechdel_df = pd.read_csv(bechdel_file, encoding='latin-1', on_bad_lines='skip')\n",
    "mergedmoviegenre_df = pd.read_csv(mergedmoviegenre_file)\n",
    "\n",
    "# netflix ve prime dosyalarını \"title\" alanına göre birleştirerek aynı kayıtları 1 kez al\n",
    "merged_df = pd.concat([netflix_df, prime_df]).drop_duplicates(subset=['title'])\n",
    "\n",
    "# bechdel dosyasından ilgili bilgileri \"title\" alanına göre merged_df'e ekleyerek, her iki veri kümesinde de olan kayıtları göster\n",
    "final_df = pd.merge(merged_df, bechdel_df, on='title', how='inner', suffixes=('_merged', '_bechdel'))\n",
    "\n",
    "# MergedMovieGenre datasını kullanarak final_df ile eşleştirme\n",
    "merged_with_genre_df = pd.merge(final_df, mergedmoviegenre_df, on='title', how='inner')\n",
    "\n",
    "# Belirtilen sütun isimlerini çıkararak çıktıdaki sütunları göster\n",
    "unwanted_columns = ['show_id', 'no', 'imdbid', 'id', 'imdbId']\n",
    "filtered_df = merged_with_genre_df.drop(unwanted_columns, axis=1)\n",
    "\n",
    "# Çıktıdaki tüm sütun isimlerini alın\n",
    "all_columns = filtered_df.columns.tolist()\n",
    "\n",
    "# 'type' ve 'title' sütunlarının yerlerini değiştirme\n",
    "all_columns.remove('type')\n",
    "all_columns.remove('title')\n",
    "new_column_order = ['title', 'type'] + all_columns\n",
    "\n",
    "# Sütunları yeni sıraya göre güncelleme\n",
    "filtered_df = filtered_df[new_column_order]\n",
    "\n",
    "# Sonuç veri çerçevesini ekrana bastırma\n",
    "print(filtered_df.head(25000))\n",
    "\n",
    "# Çıktıdaki sütun isimlerini yazdırma\n",
    "print(filtered_df.columns)\n"
   ]
  },
  {
   "cell_type": "code",
   "execution_count": 2,
   "id": "a2d0806c-7b0a-4747-9a8a-83238f51c112",
   "metadata": {},
   "outputs": [],
   "source": [
    "#deneme- berk"
   ]
  },
  {
   "cell_type": "code",
   "execution_count": null,
   "id": "bf65b22e-2817-45c3-8070-05f1caf2f21d",
   "metadata": {},
   "outputs": [],
   "source": []
  }
 ],
 "metadata": {
  "kernelspec": {
   "display_name": "Python 3 (ipykernel)",
   "language": "python",
   "name": "python3"
  },
  "language_info": {
   "codemirror_mode": {
    "name": "ipython",
    "version": 3
   },
   "file_extension": ".py",
   "mimetype": "text/x-python",
   "name": "python",
   "nbconvert_exporter": "python",
   "pygments_lexer": "ipython3",
   "version": "3.11.5"
  }
 },
 "nbformat": 4,
 "nbformat_minor": 5
}
