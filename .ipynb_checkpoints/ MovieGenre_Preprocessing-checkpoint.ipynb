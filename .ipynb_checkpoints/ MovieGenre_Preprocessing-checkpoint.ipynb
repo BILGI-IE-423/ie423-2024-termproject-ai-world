{
 "cells": [
  {
   "cell_type": "code",
   "execution_count": null,
   "id": "debe09f3",
   "metadata": {},
   "outputs": [],
   "source": [
    "import pandas as pd\n",
    "\n",
    "# Movie Genre datasının dosya yolu\n",
    "movie_genre_file = \"C:/Users/berk/Downloads/MovieGenre.csv\"\n",
    "\n",
    "# Movie Genre datasını oku\n",
    "movie_genre_df = pd.read_csv(movie_genre_file, encoding='latin-1')\n",
    "\n",
    "# Title sütunundaki film ismi ve yıl sütunlarına ayırma\n",
    "def split_title_and_year(title):\n",
    "    parts = title.rsplit('(', 1)\n",
    "    film_name = parts[0].strip()\n",
    "    if len(parts) > 1:\n",
    "        year = parts[1][:-1]  # Son parantezi atarak yılı al\n",
    "    else:\n",
    "        year = ''  # Yıl bulunamadıysa boş bir değer ata\n",
    "    return pd.Series([film_name, year], index=['title', 'year'])\n",
    "\n",
    "# Yeni veri çerçevesini oluşturarak film adını ve yılı içerecek şekilde doldur\n",
    "new_movie_genre_df = movie_genre_df['Title'].apply(split_title_and_year)\n",
    "\n",
    "# Yeni veri çerçevesini ve Movie Genre datasının diğer sütunlarını birleştirerek tam veri çerçevesini elde et\n",
    "merged_movie_genre_df = pd.concat([movie_genre_df.drop('Title', axis=1), new_movie_genre_df], axis=1)\n",
    "\n",
    "# İşlenmiş veri çerçevesini kontrol et\n",
    "print(merged_movie_genre_df.head(50000))\n",
    "\n",
    "# CSV dosyası olarak kaydetmek istediğiniz yol\n",
    "output_file_path = \"C:/Users/berk/Downloads/MergedMovieGenre.csv\"\n",
    "\n",
    "# İşlenmiş veri çerçevesini CSV dosyası olarak kaydet\n",
    "merged_movie_genre_df.to_csv(output_file_path, index=False)\n",
    "\n",
    "# Kullanıcıya dosyanın başarıyla kaydedildiğini bildir\n",
    "print(f\"Veri çerçevesi başarıyla kaydedildi: {output_file_path}\")\n"
   ]
  }
 ],
 "metadata": {
  "kernelspec": {
   "display_name": "Python 3 (ipykernel)",
   "language": "python",
   "name": "python3"
  },
  "language_info": {
   "codemirror_mode": {
    "name": "ipython",
    "version": 3
   },
   "file_extension": ".py",
   "mimetype": "text/x-python",
   "name": "python",
   "nbconvert_exporter": "python",
   "pygments_lexer": "ipython3",
   "version": "3.11.5"
  }
 },
 "nbformat": 4,
 "nbformat_minor": 5
}
