{
 "cells": [
  {
   "cell_type": "markdown",
   "id": "aa621374-6546-46c5-9343-dc33a972257b",
   "metadata": {},
   "source": [
    "```mermaid\n",
    "\n",
    "gantt\n",
    "       dateFormat  YYYY-MM-DD\n",
    "       title IE 423 Project Time Line\n",
    "\n",
    "       section Research\n",
    "       Data Sets Rewiev                                   :done, des1, 2024-03-03,6d\n",
    "       Additional Data Set Finding                        :done, des2, 2024-03-05,5d\n",
    "       Determining the Research Questions                 :done, des3, 2024-03-06,2024-04-07\n",
    "\n",
    "       section Preprocessing\n",
    "       Merging Data Sets                                  :done, des4, 2024-04-25, 1d\n",
    "       Handling Missing,Outlier, Duplicate Data           :done, des5, 2024-04-25, 5d\n",
    "       Encoding                                           :done, des6, 2024-04-25, 5d\n",
    "       Image Preprocessing                                :done, des7, 2024-04-25, 5d\n",
    "\n",
    "       section Modeling\n",
    "       Splitting train/test datasets                      :active, des8, 2024-05-04, 1d\n",
    "       Scaling                                            :active, des9, 2024-05-05, 5d\n",
    "       Method Determination                               :active, des10, 2024-05-05, 5d\n",
    "       Model Training                                     :active, des11, 2024-05-10, 5d\n",
    "       Model Validation                                   :active, des12, 2024-05-15, 4d\n",
    "\n",
    "       section Evaluating\n",
    "       Model Testing                                      :active, des13, 2024-05-20,5d\n",
    "       Model Evaluation                                   :active, des14, 2024-05-25, 5d\n",
    "\n",
    "       section Website\n",
    "       Designing                                          :active, des15, 2024-06-01,7d\n",
    "       Coding                                             :active, des16, 2024-06-05,10d\n",
    "       Publishing                                         :active, des17, 2024-06-16, 1d\n",
    "    \n",
    "\n",
    "```"
   ]
  },
  {
   "cell_type": "code",
   "execution_count": null,
   "id": "de9d37f9-074a-4e62-a77d-6bb57dbc7d6a",
   "metadata": {},
   "outputs": [],
   "source": []
  }
 ],
 "metadata": {
  "kernelspec": {
   "display_name": "Python 3 (ipykernel)",
   "language": "python",
   "name": "python3"
  },
  "language_info": {
   "codemirror_mode": {
    "name": "ipython",
    "version": 3
   },
   "file_extension": ".py",
   "mimetype": "text/x-python",
   "name": "python",
   "nbconvert_exporter": "python",
   "pygments_lexer": "ipython3",
   "version": "3.12.1"
  }
 },
 "nbformat": 4,
 "nbformat_minor": 5
}
